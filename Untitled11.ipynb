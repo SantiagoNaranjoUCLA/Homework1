{
 "cells": [
  {
   "cell_type": "markdown",
   "id": "50e6ee02",
   "metadata": {},
   "source": [
    "### iL overstates inflation because it measures price changes based on the original consumption bundle $(x^*(p, m))$ assuming that consumers keep buying the same quantities of goods as before\"\n",
    "### iP underestimate inflation because it measures price changes based on the new consumption choices $(x^*(p', m))$ assuming that consumers switch completely to the new consumption bundle\"\n",
    "### We can say that iCV is the better method to use to estimate the real inflation rate as it calculates the increase in income required to maintain the same level of utility\""
   ]
  }
 ],
 "metadata": {
  "kernelspec": {
   "display_name": "Python 3 (ipykernel)",
   "language": "python",
   "name": "python3"
  },
  "language_info": {
   "codemirror_mode": {
    "name": "ipython",
    "version": 3
   },
   "file_extension": ".py",
   "mimetype": "text/x-python",
   "name": "python",
   "nbconvert_exporter": "python",
   "pygments_lexer": "ipython3",
   "version": "3.11.4"
  }
 },
 "nbformat": 4,
 "nbformat_minor": 5
}
